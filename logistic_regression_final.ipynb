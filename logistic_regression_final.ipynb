{
  "cells": [
    {
      "cell_type": "code",
      "execution_count": null,
      "id": "f2c46005",
      "metadata": {
        "id": "f2c46005"
      },
      "outputs": [],
      "source": [
        "import numpy as np\n",
        "import pandas as pd"
      ]
    },
    {
      "cell_type": "code",
      "execution_count": null,
      "id": "669c88f4",
      "metadata": {
        "id": "669c88f4"
      },
      "outputs": [],
      "source": [
        "def sigmoid(x):\n",
        "    return 1/(1+np.exp(-x))\n",
        "\n",
        "def predict(weights, bias, X):\n",
        "    return sigmoid(np.sum(X*weights, axis=1)+bias)\n",
        "    \n",
        "def get_NLL(weights, bias, X, y):\n",
        "    pred = predict(weights, bias, X)\n",
        "    return -np.sum( np.log(y*pred + (1-y)*(1-pred)   ) )\n",
        "\n",
        "def get_dNLL_dw(weights, bias, X, y):\n",
        "    pred = predict(weights, bias, X)\n",
        "    X_ = np.hstack((X, np.ones((X.shape[0], 1))))\n",
        "    d_ = (X_.T@(pred - y))/(X.shape[0])\n",
        "    return d_[:-1], d_[-1]\n",
        "\n",
        "def MSE(preds, y):\n",
        "    return np.mean((y-preds)**2)\n",
        "\n",
        "def accuracy(preds, y):\n",
        "    return np.mean(y==np.round(preds))"
      ]
    },
    {
      "cell_type": "code",
      "execution_count": null,
      "id": "0db2eaea",
      "metadata": {
        "id": "0db2eaea"
      },
      "outputs": [],
      "source": [
        "iterations = 100\n",
        "lr = 0.1\n",
        "X = np.random.rand(4, 5)\n",
        "y = np.round(np.random.rand(4))"
      ]
    },
    {
      "cell_type": "code",
      "execution_count": null,
      "id": "1cc7a9d5",
      "metadata": {
        "id": "1cc7a9d5"
      },
      "outputs": [],
      "source": [
        "def run_LR(iterations, lr, X_train, y_train, X_test, y_test):\n",
        "    weights = np.random.rand(X_train.shape[1])-1\n",
        "    bias = np.random.rand(1)-1\n",
        "    losses = []\n",
        "    accuracies = []\n",
        "    for it in range(iterations):\n",
        "        preds = predict(weights, bias, X_train)\n",
        "        MSE_train = MSE(preds, y_train)\n",
        "        preds_test = predict(weights, bias, X_test)\n",
        "        MSE_test = MSE(preds_test, y_test)\n",
        "        \n",
        "        acc_train = accuracy(preds, y_train)\n",
        "        acc_test = accuracy(preds_test, y_test)\n",
        "        nll = get_NLL(weights, bias, X_train, y_train)\n",
        "        d_w, d_b = get_dNLL_dw(weights, bias, X_train, y_train)\n",
        "        \n",
        "        weights -= lr*d_w\n",
        "        bias    -= lr*d_b\n",
        "        \n",
        "        losses.append(nll)\n",
        "        accuracies.append(acc_test)\n",
        "        print(f\"acc_train: {acc_train}, acc_test: {acc_test}, MSE_train: {MSE_train}, MSE_test: {MSE_test}, NLL: {nll}\")\n",
        "    return accuracies, losses\n",
        "run_LR(iterations, lr, X, y, X, y)"
      ]
    },
    {
      "cell_type": "code",
      "execution_count": null,
      "id": "f3ba4e7d",
      "metadata": {
        "id": "f3ba4e7d"
      },
      "outputs": [],
      "source": [
        "cols = ['MPG','Cylinders','Displacement','Horsepower','Weight',\n",
        "                'Acceleration', 'Year', 'Origin']\n",
        "\n",
        "df = pd.read_csv('auto.data', names=cols, na_values = \"?\",\n",
        "                comment = '\\t', # once the program encounters a \\t then the rest of the line would be ignored by the function\n",
        "                sep= \" \",\n",
        "                skipinitialspace=True)\n",
        "df = df.iloc[1: , :]\n",
        "data = df.copy()\n",
        "data['MPG']= pd.to_numeric(data['MPG'])\n",
        "\n",
        "median = data['Horsepower'].median()\n",
        "data['Horsepower'] = data['Horsepower'].fillna(median)\n",
        "#data[cols] = data[cols].applymap(np.int32)\n",
        "\n",
        "data"
      ]
    },
    {
      "cell_type": "code",
      "execution_count": null,
      "id": "15b7e866",
      "metadata": {
        "id": "15b7e866"
      },
      "outputs": [],
      "source": [
        "X_ = data[['Horsepower', 'Weight', 'Year']].values\n",
        "X = (X_-X_.mean(axis=0))/X_.std(axis=0)\n",
        "y = (data['MPG'].values>=23).astype(int)\n",
        "\n",
        "from sklearn.model_selection import train_test_split\n",
        "\n",
        "X_train, X_test, y_train, y_test = train_test_split(X, y, test_size=0.33, random_state=2022)"
      ]
    },
    {
      "cell_type": "code",
      "execution_count": null,
      "id": "81e1403e",
      "metadata": {
        "id": "81e1403e"
      },
      "outputs": [],
      "source": [
        "accuracies, losses = run_LR(iterations=1000, lr=1, X_train=X_train, X_test=X_test, y_train=y_train, y_test=y_test) \n",
        "max(accuracies)"
      ]
    },
    {
      "cell_type": "code",
      "execution_count": null,
      "id": "a7a57121",
      "metadata": {
        "colab": {
          "base_uri": "https://localhost:8080/",
          "height": 297
        },
        "id": "a7a57121",
        "outputId": "34a4c3e0-91fd-4e00-e516-a8520a3eea50"
      },
      "outputs": [
        {
          "output_type": "execute_result",
          "data": {
            "text/plain": [
              "Text(0.5, 0, 'NLL')"
            ]
          },
          "metadata": {},
          "execution_count": 8
        },
        {
          "output_type": "display_data",
          "data": {
            "text/plain": [
              "<Figure size 432x288 with 1 Axes>"
            ],
            "image/png": "[encoded data removed]"
          },
          "metadata": {
            "needs_background": "light"
          }
        }
      ],
      "source": [
        "# 2.\n",
        "import matplotlib.pyplot as plt\n",
        "plt.plot(losses)\n",
        "plt.xlabel(\"Iteration (T)\")\n",
        "plt.xlabel(\"NLL\")\n",
        "# the loss of (t+1) should be lower than the loss of (t) because gradient descent works by changing the weights \n",
        "# and bias in such a way that the loss function is minimised. This means every iterations the gradients and\n",
        "# bias are changed to reduce the loss function. This is why the loss function value decreases each iteration. \n"
      ]
    },
    {
      "cell_type": "markdown",
      "id": "ec1ead52",
      "metadata": {
        "id": "ec1ead52"
      },
      "source": [
        "### 3\n",
        "The model is not able to be ran without normalisation, as this causes numerical stability: The numbers are so large in the dataset, that the predictions in the first iterations is set to a probability of 1 (because the number being entered into the sigmoid is so high). This results in an inf in the NLL function, meaning the algorithm cannot function."
      ]
    },
    {
      "cell_type": "code",
      "execution_count": null,
      "id": "05ef4920",
      "metadata": {
        "id": "05ef4920"
      },
      "outputs": [],
      "source": [
        "dummies_origin = pd.get_dummies(data[\"Origin\"]).values\n",
        "\n",
        "X_ = data[['Horsepower', 'Weight', 'Year']].values\n",
        "# X = (X_-X_.mean(axis=0))/X_.std(axis=0)\n",
        "X = np.hstack((X_, dummies_origin))\n",
        "y = (data['MPG'].values>=23).astype(int)\n",
        "\n",
        "X_train, X_test, y_train, y_test = train_test_split(X, y, test_size=0.33, random_state=2022)\n",
        "accuracies, losses = run_LR(iterations=1000, \n",
        "                lr=0.01, \n",
        "                X_train=X_train, \n",
        "                y_train=y_train, \n",
        "                X_test=X_test, \n",
        "                y_test=y_test)\n",
        "max(accuracies)"
      ]
    },
    {
      "cell_type": "markdown",
      "id": "5dedd22f",
      "metadata": {
        "id": "5dedd22f"
      },
      "source": [
        "The model does not work without normalisation due to numerical instability because of the large values in the data. "
      ]
    },
    {
      "cell_type": "code",
      "execution_count": null,
      "id": "dbe45c2a",
      "metadata": {
        "id": "dbe45c2a"
      },
      "outputs": [],
      "source": [
        "X_ = data[['Horsepower', 'Weight', 'Year']].values\n",
        "X = (X_-X_.mean(axis=0))/X_.std(axis=0)\n",
        "X = np.hstack((X, dummies_origin))\n",
        "y = (data['MPG'].values>=23).astype(int)\n",
        "\n",
        "X_train, X_test, y_train, y_test = train_test_split(X, y, test_size=0.33, random_state=2022)\n",
        "accuracies, losses = run_LR(iterations=1000, \n",
        "                lr=0.01, \n",
        "                X_train=X_train, \n",
        "                y_train=y_train, \n",
        "                X_test=X_test, \n",
        "                y_test=y_test)\n",
        "max(accuracies)"
      ]
    },
    {
      "cell_type": "code",
      "execution_count": null,
      "id": "97ae3974",
      "metadata": {
        "id": "97ae3974"
      },
      "outputs": [],
      "source": [
        "X_ = data[['Horsepower', 'Weight', 'Year']].values\n",
        "X = (X_-X_.mean(axis=0))/X_.std(axis=0)\n",
        "X = np.hstack((X, dummies_origin))\n",
        "y = (data['MPG'].values>=23).astype(int)\n",
        "\n",
        "X_train, X_test, y_train, y_test = train_test_split(X, y, test_size=0.33, random_state=2022)"
      ]
    },
    {
      "cell_type": "code",
      "execution_count": null,
      "id": "5e98aff3",
      "metadata": {
        "id": "5e98aff3"
      },
      "outputs": [],
      "source": [
        "accuracies, losses = run_LR(iterations=1000, \n",
        "                lr=0.01, \n",
        "                X_train=X_train, \n",
        "                y_train=y_train, \n",
        "                X_test=X_test, \n",
        "                y_test=y_test)\n",
        "max(accuracies)"
      ]
    },
    {
      "cell_type": "markdown",
      "id": "961f3abe",
      "metadata": {
        "id": "961f3abe"
      },
      "source": [
        "On a previous run not shown here:\n",
        "When origin is taken into account, the test accuracy is 94%, whilst it is 93% when origin is not taken into account. This implies that origin makes a small negative difference in the accuracy of the classifier. This is an interesting an unxpected result, as one would think that with more information the classifier would do better. Potentially the inclusion of origin is incouraging the model to overfit. It may also be the case that origin has no bearing at all of mpg, and therefore the inclusion of three extra dimensions adds more complexity to the model without adding any useful information, therefore making the task of the model to find useful signal much harder.  \n",
        "\n",
        "On the run shown here, origin makes no difference to the result of the classifier, implying that origin has no effect on the mpg."
      ]
    },
    {
      "cell_type": "markdown",
      "id": "b6c31e86",
      "metadata": {
        "id": "b6c31e86"
      },
      "source": [
        "## 4. "
      ]
    },
    {
      "cell_type": "code",
      "execution_count": null,
      "id": "6160e58f",
      "metadata": {
        "id": "6160e58f"
      },
      "outputs": [],
      "source": [
        "def run_LR_weights_bias(iterations, lr, X_train, y_train, X_test, y_test, weights, bias, verbose=False):\n",
        "   \n",
        "    losses = []\n",
        "    training_accuracies = []\n",
        "    accuracies = []\n",
        "    for it in range(iterations):\n",
        "        preds = predict(weights, bias, X_train)\n",
        "        MSE_train = MSE(preds, y_train)\n",
        "        preds_test = predict(weights, bias, X_test)\n",
        "        MSE_test = MSE(preds_test, y_test)\n",
        "        \n",
        "        acc_train = accuracy(preds, y_train)\n",
        "        acc_test = accuracy(preds_test, y_test)\n",
        "        nll = get_NLL(weights, bias, X_train, y_train)\n",
        "        d_w, d_b = get_dNLL_dw(weights, bias, X_train, y_train)\n",
        "        \n",
        "        weights -= lr*d_w\n",
        "        bias    -= lr*d_b\n",
        "        \n",
        "        losses.append(nll)\n",
        "        accuracies.append(acc_test)\n",
        "        training_accuracies.append(acc_train)\n",
        "        if verbose:\n",
        "            print(f\"acc_train: {acc_train}, acc_test: {acc_test}, MSE_train: {MSE_train}, MSE_test: {MSE_test}, NLL: {nll}\")\n",
        "    return training_accuracies, accuracies, losses\n",
        "\n"
      ]
    },
    {
      "cell_type": "code",
      "execution_count": null,
      "id": "218d48be",
      "metadata": {
        "id": "218d48be"
      },
      "outputs": [],
      "source": [
        "weights = np.random.normal(size=X_train.shape[1], loc=0, scale=0.7)\n",
        "bias = np.random.normal(size=1, loc=0, scale=0.7)"
      ]
    },
    {
      "cell_type": "code",
      "execution_count": null,
      "id": "9f732631",
      "metadata": {
        "colab": {
          "base_uri": "https://localhost:8080/"
        },
        "id": "9f732631",
        "outputId": "cff9f4eb-7793-4347-dc83-d298813fc28b"
      },
      "outputs": [
        {
          "output_type": "stream",
          "name": "stdout",
          "text": [
            "Error rate:  0.10050251256281406\n",
            "Error rate:  0.085427135678392\n",
            "Error rate:  0.10050251256281406\n",
            "Error rate:  0.11557788944723613\n",
            "Error rate:  0.10050251256281406\n",
            "Error rate:  0.085427135678392\n",
            "Error rate:  0.11055276381909551\n",
            "Error rate:  0.11557788944723613\n",
            "Error rate:  0.09045226130653261\n",
            "Error rate:  0.10050251256281406\n",
            "\n",
            "Mean of the error rates:  0.10050251256281406\n",
            "Var of the error rates:  0.00011110830534582422\n"
          ]
        }
      ],
      "source": [
        "from copy import copy\n",
        "seeds = np.arange(10)\n",
        "error_rates = []\n",
        "for seed in seeds:\n",
        "    X_train, X_test, y_train, y_test = train_test_split(X, y, test_size=0.5, random_state=seed)\n",
        "    _, accuracies, losses = run_LR_weights_bias(iterations=1000, \n",
        "                lr=0.1, \n",
        "                X_train=X_train, \n",
        "                y_train=y_train, \n",
        "                X_test=X_test, \n",
        "                y_test=y_test,\n",
        "                weights=copy(weights), \n",
        "                bias=copy(bias))\n",
        "    argmin = np.argmin(losses)\n",
        "    error_rate = 1-accuracies[argmin]\n",
        "    print(\"Error rate: \", error_rate)\n",
        "    error_rates.append(error_rate)\n",
        "print(\"\")\n",
        "print(\"Mean of the error rates: \", np.mean(error_rates))\n",
        "print(\"Var of the error rates: \", np.std(error_rates)**2)"
      ]
    },
    {
      "cell_type": "markdown",
      "id": "265cea3c",
      "metadata": {
        "id": "265cea3c"
      },
      "source": [
        "It can be seen that the variance of the error rates is extremely low. This means the model is very consistent across different runs. The model has an error rate of about 10%, whether this is 'good' or not depends on the specific application and would need input from a domain expert. However it is encouraging to see that the model has low variance as this ones one can be confident that the model would continue to behave this way if used in the real world. "
      ]
    },
    {
      "cell_type": "code",
      "execution_count": null,
      "id": "42458f2b",
      "metadata": {
        "colab": {
          "base_uri": "https://localhost:8080/"
        },
        "id": "42458f2b",
        "outputId": "a890b535-6116-4591-a437-8a2b0e51722e"
      },
      "outputs": [
        {
          "output_type": "stream",
          "name": "stdout",
          "text": [
            "Doing 9/10"
          ]
        }
      ],
      "source": [
        "epochs = [10, 20, 50, 100, 200, 500, 1000, 2000, 5000, 10000]\n",
        "learning_rates = [0.001, 0.005, 0.01, 0.05, 0.1, 0.5, 1, 5, 10, 100]\n",
        "out = []\n",
        "for ind, lr in enumerate(learning_rates):\n",
        "    print(f\"\\rDoing {ind}/10\", end=\"\")\n",
        "    for iteration in epochs:\n",
        "        \n",
        "        training_accuracies, accuracies, losses = run_LR_weights_bias(iterations=iteration, \n",
        "                                                 lr=lr, \n",
        "                                                 X_train=X_train, \n",
        "                                                 y_train=y_train, \n",
        "                                                 X_test=X_test, \n",
        "                                                 y_test=y_test,\n",
        "                                                 weights=copy(weights), \n",
        "                                                 bias=copy(bias))\n",
        "        argmin = np.argmin(losses)\n",
        "        error_rate_train = 1-training_accuracies[argmin]\n",
        "        error_rate = 1-accuracies[argmin]\n",
        "        \n",
        "        out.append([lr, iteration, error_rate_train, error_rate])"
      ]
    },
    {
      "cell_type": "code",
      "execution_count": null,
      "id": "712cd9e5",
      "metadata": {
        "id": "712cd9e5"
      },
      "outputs": [],
      "source": [
        "out"
      ]
    },
    {
      "cell_type": "code",
      "execution_count": null,
      "id": "07827a14",
      "metadata": {
        "colab": {
          "base_uri": "https://localhost:8080/"
        },
        "id": "07827a14",
        "outputId": "e2185944-9414-4a3c-d8a7-af2395ae0a9e"
      },
      "outputs": [
        {
          "output_type": "stream",
          "name": "stdout",
          "text": [
            "29\n"
          ]
        },
        {
          "output_type": "execute_result",
          "data": {
            "text/plain": [
              "array([1.00000000e-02, 1.00000000e+04, 9.04522613e-02, 1.00502513e-01])"
            ]
          },
          "metadata": {},
          "execution_count": 18
        }
      ],
      "source": [
        "arg = np.argmin(np.array(out)[:, 3])\n",
        "print(arg)\n",
        "np.array(out)[arg, :]"
      ]
    },
    {
      "cell_type": "markdown",
      "id": "9287aba7",
      "metadata": {
        "id": "9287aba7"
      },
      "source": [
        "The best test error rate happens with a lr=5.00000000e-03 and 5000 epochs.\n"
      ]
    },
    {
      "cell_type": "code",
      "execution_count": null,
      "id": "d8b50143",
      "metadata": {
        "colab": {
          "base_uri": "https://localhost:8080/"
        },
        "id": "d8b50143",
        "outputId": "5b053bd8-4ba4-4dd9-8799-fa6b18a1145e"
      },
      "outputs": [
        {
          "output_type": "stream",
          "name": "stdout",
          "text": [
            "19\n"
          ]
        }
      ],
      "source": [
        "arg = np.argmin(np.array(out)[:, 2])\n",
        "print(arg)"
      ]
    },
    {
      "cell_type": "markdown",
      "id": "0f87d0b5",
      "metadata": {
        "id": "0f87d0b5"
      },
      "source": [
        "Yes, the min train error and test error happens with the same combination of learning rate and iterations. If the learning rate is too big, the algorithm will be taking too bigger steps on the gradient descent updating process. This can lead to the algorithm jumping over the minimum, and can lead to numerical instability. This can result in inf values being produces, which produces run time warnings. It also leads to lower error rates.  "
      ]
    },
    {
      "cell_type": "code",
      "execution_count": null,
      "id": "79179c73",
      "metadata": {
        "colab": {
          "base_uri": "https://localhost:8080/",
          "height": 286
        },
        "id": "79179c73",
        "outputId": "b664f613-8d1e-4769-9056-f15c5910643a"
      },
      "outputs": [
        {
          "output_type": "execute_result",
          "data": {
            "text/plain": [
              "<matplotlib.legend.Legend at 0x7fb78293e910>"
            ]
          },
          "metadata": {},
          "execution_count": 20
        },
        {
          "output_type": "display_data",
          "data": {
            "text/plain": [
              "<Figure size 432x288 with 1 Axes>"
            ],
            "image/png": "[encoded data removed]"
          },
          "metadata": {
            "needs_background": "light"
          }
        }
      ],
      "source": [
        "out = np.array(out)\n",
        "for i, lr in zip(range(10), learning_rates):\n",
        "    plt.plot(out[i*10:i*10+10, 1], out[i*10:i*10+10, 3], label = f\"lr: {lr}\")\n",
        "plt.legend()"
      ]
    },
    {
      "cell_type": "markdown",
      "id": "d47648f0",
      "metadata": {
        "id": "d47648f0"
      },
      "source": [
        "6.\n"
      ]
    },
    {
      "cell_type": "code",
      "execution_count": null,
      "id": "5d5e302a",
      "metadata": {
        "id": "5d5e302a"
      },
      "outputs": [],
      "source": [
        "lr = 5e-3 \n",
        "iterations = 5000\n",
        "losses_ = []\n",
        "train_ers = []\n",
        "test_ers = []\n",
        "for i in range(10):\n",
        "    weights = np.random.normal(size=X_train.shape[1], loc=0, scale=0.7)\n",
        "    bias = np.random.normal(size=1, loc=0, scale=0.7)\n",
        "    training_accuracies, accuracies, losses = run_LR_weights_bias(iterations, \n",
        "                                                                  lr, \n",
        "                                                                  X_train, \n",
        "                                                                  y_train, \n",
        "                                                                  X_test, \n",
        "                                                                  y_test, \n",
        "                                                                  weights, \n",
        "                                                                  bias, \n",
        "                                                                  verbose=False)\n",
        "    losses_.append(losses)\n",
        "    arg = np.argmin(losses)\n",
        "    train_er = 1-training_accuracies[arg]\n",
        "    test_er = 1-accuracies[arg]\n",
        "    \n",
        "    train_ers.append(train_er)\n",
        "    test_ers.append(test_er)"
      ]
    },
    {
      "cell_type": "code",
      "execution_count": null,
      "id": "ebf99810",
      "metadata": {
        "colab": {
          "base_uri": "https://localhost:8080/",
          "height": 313
        },
        "id": "ebf99810",
        "outputId": "7f9bc9f2-cccd-4d1e-d869-9ab382e9c331"
      },
      "outputs": [
        {
          "output_type": "execute_result",
          "data": {
            "text/plain": [
              "Text(0, 0.5, 'Error rate')"
            ]
          },
          "metadata": {},
          "execution_count": 22
        },
        {
          "output_type": "display_data",
          "data": {
            "text/plain": [
              "<Figure size 432x288 with 1 Axes>"
            ],
            "image/png": "[encoded data removed]"
          },
          "metadata": {
            "needs_background": "light"
          }
        }
      ],
      "source": [
        "plt.title(\"Training error rates\")\n",
        "plt.bar(x=np.arange(10), height =train_ers)\n",
        "\n",
        "plt.xlabel(\"Run\")\n",
        "plt.ylabel(\"Error rate\")"
      ]
    },
    {
      "cell_type": "code",
      "execution_count": null,
      "id": "3c53b9f0",
      "metadata": {
        "colab": {
          "base_uri": "https://localhost:8080/",
          "height": 313
        },
        "id": "3c53b9f0",
        "outputId": "8fa69f13-43a4-42a7-bea3-682c02b9689d"
      },
      "outputs": [
        {
          "output_type": "execute_result",
          "data": {
            "text/plain": [
              "Text(0, 0.5, 'Error rate')"
            ]
          },
          "metadata": {},
          "execution_count": 23
        },
        {
          "output_type": "display_data",
          "data": {
            "text/plain": [
              "<Figure size 432x288 with 1 Axes>"
            ],
            "image/png": "[encoded data removed]"
          },
          "metadata": {
            "needs_background": "light"
          }
        }
      ],
      "source": [
        "plt.title(\"Testing error rates\")\n",
        "plt.bar(x=np.arange(10), height =test_ers)\n",
        "\n",
        "plt.xlabel(\"Run\")\n",
        "plt.ylabel(\"Error rate\")"
      ]
    },
    {
      "cell_type": "code",
      "execution_count": null,
      "id": "20cf5d98",
      "metadata": {
        "colab": {
          "base_uri": "https://localhost:8080/",
          "height": 301
        },
        "id": "20cf5d98",
        "outputId": "5cacbdb1-b615-4b9c-8936-f4e10770718c"
      },
      "outputs": [
        {
          "output_type": "execute_result",
          "data": {
            "text/plain": [
              "Text(0, 0.5, 'NLL')"
            ]
          },
          "metadata": {},
          "execution_count": 24
        },
        {
          "output_type": "display_data",
          "data": {
            "text/plain": [
              "<Figure size 432x288 with 1 Axes>"
            ],
            "image/png": "[encoded data removed]"
          },
          "metadata": {
            "needs_background": "light"
          }
        }
      ],
      "source": [
        "for item in losses_:\n",
        "    plt.plot(item)\n",
        "plt.xlabel(\"Iteration\")\n",
        "plt.ylabel(\"NLL\")"
      ]
    },
    {
      "cell_type": "markdown",
      "id": "27dc5999",
      "metadata": {
        "id": "27dc5999"
      },
      "source": [
        "We can conclude that changing the intial weights can make a difference over the final error rates. Infact we can see that there is a difference of up to 4%, 7% min and 11% max. We can see that at the start, the first 1000 iterations, there are vast differences in the NLL between different starting weights. Clearly, the initial guess of weights makes a huge difference. However, after 2000, there are all almost the same. This is because the gradient descent reduces the error by a magnitude of the error. In other words, the greater the error, the quicker it will be reduced. \n"
      ]
    }
  ],
  "metadata": {
    "kernelspec": {
      "display_name": "Python 3",
      "language": "python",
      "name": "python3"
    },
    "language_info": {
      "codemirror_mode": {
        "name": "ipython",
        "version": 3
      },
      "file_extension": ".py",
      "mimetype": "text/x-python",
      "name": "python",
      "nbconvert_exporter": "python",
      "pygments_lexer": "ipython3",
      "version": "3.9.4"
    },
    "colab": {
      "name": "logistic regression final",
      "provenance": []
    }
  },
  "nbformat": 4,
  "nbformat_minor": 5
}